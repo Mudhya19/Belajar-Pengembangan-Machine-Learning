{
 "cells": [
  {
   "cell_type": "code",
   "execution_count": 15,
   "metadata": {},
   "outputs": [],
   "source": [
    "import pandas as pd\n",
    "df = pd.read_csv('citrus.csv')"
   ]
  },
  {
   "cell_type": "code",
   "execution_count": 16,
   "metadata": {},
   "outputs": [
    {
     "name": "stdout",
     "output_type": "stream",
     "text": [
      "<class 'pandas.core.frame.DataFrame'>\n",
      "RangeIndex: 10000 entries, 0 to 9999\n",
      "Data columns (total 6 columns):\n",
      " #   Column    Non-Null Count  Dtype  \n",
      "---  ------    --------------  -----  \n",
      " 0   name      10000 non-null  object \n",
      " 1   diameter  10000 non-null  float64\n",
      " 2   weight    10000 non-null  float64\n",
      " 3   red       10000 non-null  int64  \n",
      " 4   green     10000 non-null  int64  \n",
      " 5   blue      10000 non-null  int64  \n",
      "dtypes: float64(2), int64(3), object(1)\n",
      "memory usage: 468.9+ KB\n"
     ]
    }
   ],
   "source": [
    "df.info()"
   ]
  },
  {
   "cell_type": "code",
   "execution_count": 17,
   "metadata": {},
   "outputs": [
    {
     "data": {
      "text/html": [
       "<div>\n",
       "<style scoped>\n",
       "    .dataframe tbody tr th:only-of-type {\n",
       "        vertical-align: middle;\n",
       "    }\n",
       "\n",
       "    .dataframe tbody tr th {\n",
       "        vertical-align: top;\n",
       "    }\n",
       "\n",
       "    .dataframe thead th {\n",
       "        text-align: right;\n",
       "    }\n",
       "</style>\n",
       "<table border=\"1\" class=\"dataframe\">\n",
       "  <thead>\n",
       "    <tr style=\"text-align: right;\">\n",
       "      <th></th>\n",
       "      <th>name</th>\n",
       "      <th>diameter</th>\n",
       "      <th>weight</th>\n",
       "      <th>red</th>\n",
       "      <th>green</th>\n",
       "      <th>blue</th>\n",
       "    </tr>\n",
       "  </thead>\n",
       "  <tbody>\n",
       "    <tr>\n",
       "      <th>0</th>\n",
       "      <td>orange</td>\n",
       "      <td>2.96</td>\n",
       "      <td>86.76</td>\n",
       "      <td>172</td>\n",
       "      <td>85</td>\n",
       "      <td>2</td>\n",
       "    </tr>\n",
       "    <tr>\n",
       "      <th>1</th>\n",
       "      <td>orange</td>\n",
       "      <td>3.91</td>\n",
       "      <td>88.05</td>\n",
       "      <td>166</td>\n",
       "      <td>78</td>\n",
       "      <td>3</td>\n",
       "    </tr>\n",
       "    <tr>\n",
       "      <th>2</th>\n",
       "      <td>orange</td>\n",
       "      <td>4.42</td>\n",
       "      <td>95.17</td>\n",
       "      <td>156</td>\n",
       "      <td>81</td>\n",
       "      <td>2</td>\n",
       "    </tr>\n",
       "    <tr>\n",
       "      <th>3</th>\n",
       "      <td>orange</td>\n",
       "      <td>4.47</td>\n",
       "      <td>95.60</td>\n",
       "      <td>163</td>\n",
       "      <td>81</td>\n",
       "      <td>4</td>\n",
       "    </tr>\n",
       "    <tr>\n",
       "      <th>4</th>\n",
       "      <td>orange</td>\n",
       "      <td>4.48</td>\n",
       "      <td>95.76</td>\n",
       "      <td>161</td>\n",
       "      <td>72</td>\n",
       "      <td>9</td>\n",
       "    </tr>\n",
       "    <tr>\n",
       "      <th>...</th>\n",
       "      <td>...</td>\n",
       "      <td>...</td>\n",
       "      <td>...</td>\n",
       "      <td>...</td>\n",
       "      <td>...</td>\n",
       "      <td>...</td>\n",
       "    </tr>\n",
       "    <tr>\n",
       "      <th>9995</th>\n",
       "      <td>grapefruit</td>\n",
       "      <td>15.35</td>\n",
       "      <td>253.89</td>\n",
       "      <td>149</td>\n",
       "      <td>77</td>\n",
       "      <td>20</td>\n",
       "    </tr>\n",
       "    <tr>\n",
       "      <th>9996</th>\n",
       "      <td>grapefruit</td>\n",
       "      <td>15.41</td>\n",
       "      <td>254.67</td>\n",
       "      <td>148</td>\n",
       "      <td>68</td>\n",
       "      <td>7</td>\n",
       "    </tr>\n",
       "    <tr>\n",
       "      <th>9997</th>\n",
       "      <td>grapefruit</td>\n",
       "      <td>15.59</td>\n",
       "      <td>256.50</td>\n",
       "      <td>168</td>\n",
       "      <td>82</td>\n",
       "      <td>20</td>\n",
       "    </tr>\n",
       "    <tr>\n",
       "      <th>9998</th>\n",
       "      <td>grapefruit</td>\n",
       "      <td>15.92</td>\n",
       "      <td>260.14</td>\n",
       "      <td>142</td>\n",
       "      <td>72</td>\n",
       "      <td>11</td>\n",
       "    </tr>\n",
       "    <tr>\n",
       "      <th>9999</th>\n",
       "      <td>grapefruit</td>\n",
       "      <td>16.45</td>\n",
       "      <td>261.51</td>\n",
       "      <td>152</td>\n",
       "      <td>74</td>\n",
       "      <td>2</td>\n",
       "    </tr>\n",
       "  </tbody>\n",
       "</table>\n",
       "<p>10000 rows × 6 columns</p>\n",
       "</div>"
      ],
      "text/plain": [
       "            name  diameter  weight  red  green  blue\n",
       "0         orange      2.96   86.76  172     85     2\n",
       "1         orange      3.91   88.05  166     78     3\n",
       "2         orange      4.42   95.17  156     81     2\n",
       "3         orange      4.47   95.60  163     81     4\n",
       "4         orange      4.48   95.76  161     72     9\n",
       "...          ...       ...     ...  ...    ...   ...\n",
       "9995  grapefruit     15.35  253.89  149     77    20\n",
       "9996  grapefruit     15.41  254.67  148     68     7\n",
       "9997  grapefruit     15.59  256.50  168     82    20\n",
       "9998  grapefruit     15.92  260.14  142     72    11\n",
       "9999  grapefruit     16.45  261.51  152     74     2\n",
       "\n",
       "[10000 rows x 6 columns]"
      ]
     },
     "execution_count": 17,
     "metadata": {},
     "output_type": "execute_result"
    }
   ],
   "source": [
    "df.head(10000)"
   ]
  },
  {
   "cell_type": "code",
   "execution_count": 18,
   "metadata": {},
   "outputs": [
    {
     "name": "stderr",
     "output_type": "stream",
     "text": [
      "C:\\Users\\ROG G531\\AppData\\Local\\Temp\\ipykernel_12708\\2367022965.py:1: SettingWithCopyWarning: \n",
      "A value is trying to be set on a copy of a slice from a DataFrame\n",
      "\n",
      "See the caveats in the documentation: https://pandas.pydata.org/pandas-docs/stable/user_guide/indexing.html#returning-a-view-versus-a-copy\n",
      "  df.name[df.name == 'orange'] = 0\n",
      "C:\\Users\\ROG G531\\AppData\\Local\\Temp\\ipykernel_12708\\2367022965.py:2: SettingWithCopyWarning: \n",
      "A value is trying to be set on a copy of a slice from a DataFrame\n",
      "\n",
      "See the caveats in the documentation: https://pandas.pydata.org/pandas-docs/stable/user_guide/indexing.html#returning-a-view-versus-a-copy\n",
      "  df.name[df.name == 'grapefruit'] = 1\n"
     ]
    }
   ],
   "source": [
    "df.name[df.name == 'orange'] = 0\n",
    "df.name[df.name == 'grapefruit'] = 1"
   ]
  },
  {
   "cell_type": "code",
   "execution_count": 19,
   "metadata": {},
   "outputs": [
    {
     "data": {
      "text/plain": [
       "array([[0, 2.96, 86.76, 172, 85, 2],\n",
       "       [0, 3.91, 88.05, 166, 78, 3],\n",
       "       [0, 4.42, 95.17, 156, 81, 2],\n",
       "       ...,\n",
       "       [1, 15.59, 256.5, 168, 82, 20],\n",
       "       [1, 15.92, 260.14, 142, 72, 11],\n",
       "       [1, 16.45, 261.51, 152, 74, 2]], dtype=object)"
      ]
     },
     "execution_count": 19,
     "metadata": {},
     "output_type": "execute_result"
    }
   ],
   "source": [
    "dataset = df.values\n",
    "\n",
    "dataset"
   ]
  },
  {
   "cell_type": "code",
   "execution_count": 20,
   "metadata": {},
   "outputs": [],
   "source": [
    "X = dataset[:,1:6]"
   ]
  },
  {
   "cell_type": "code",
   "execution_count": 21,
   "metadata": {},
   "outputs": [],
   "source": [
    "y = dataset[:, 0]"
   ]
  },
  {
   "cell_type": "code",
   "execution_count": 22,
   "metadata": {},
   "outputs": [
    {
     "data": {
      "text/plain": [
       "array([[0.        , 0.        , 0.74025974, 0.63529412, 0.        ],\n",
       "       [0.07042254, 0.00738197, 0.66233766, 0.55294118, 0.01851852],\n",
       "       [0.10822832, 0.04812589, 0.53246753, 0.58823529, 0.        ],\n",
       "       ...,\n",
       "       [0.93624907, 0.97133047, 0.68831169, 0.6       , 0.33333333],\n",
       "       [0.96071164, 0.99216023, 0.35064935, 0.48235294, 0.16666667],\n",
       "       [1.        , 1.        , 0.48051948, 0.50588235, 0.        ]])"
      ]
     },
     "execution_count": 22,
     "metadata": {},
     "output_type": "execute_result"
    }
   ],
   "source": [
    "from sklearn import preprocessing\n",
    "\n",
    "min_max_scaler = preprocessing.MinMaxScaler()\n",
    "x_scale = min_max_scaler.fit_transform(X)\n",
    "x_scale"
   ]
  },
  {
   "cell_type": "code",
   "execution_count": 23,
   "metadata": {},
   "outputs": [],
   "source": [
    "from sklearn.model_selection import train_test_split\n",
    "\n",
    "X_train, X_test, y_train, y_test = train_test_split(x_scale, y, test_size=0.3)"
   ]
  },
  {
   "cell_type": "code",
   "execution_count": 24,
   "metadata": {},
   "outputs": [],
   "source": [
    "import numpy as np\n",
    "\n",
    "y_train = y_train.astype(np.float32)\n",
    "y_test = y_test.astype(np.float32)"
   ]
  },
  {
   "cell_type": "code",
   "execution_count": 25,
   "metadata": {},
   "outputs": [],
   "source": [
    "from keras.models import Sequential\n",
    "from keras.layers import Dense"
   ]
  },
  {
   "cell_type": "code",
   "execution_count": 26,
   "metadata": {},
   "outputs": [],
   "source": [
    "model = Sequential([    \n",
    "                Dense(32, activation='relu', input_shape=(5,)),    \n",
    "                Dense(32, activation='relu'),    \n",
    "                Dense(1, activation='sigmoid'),])"
   ]
  },
  {
   "cell_type": "code",
   "execution_count": 27,
   "metadata": {},
   "outputs": [],
   "source": [
    "model.compile(optimizer='sgd',\n",
    "                loss='binary_crossentropy',\n",
    "                metrics=['accuracy'])"
   ]
  },
  {
   "cell_type": "code",
   "execution_count": 28,
   "metadata": {},
   "outputs": [
    {
     "name": "stdout",
     "output_type": "stream",
     "text": [
      "Epoch 1/100\n",
      "WARNING:tensorflow:From c:\\Python311\\Lib\\site-packages\\keras\\src\\utils\\tf_utils.py:492: The name tf.ragged.RaggedTensorValue is deprecated. Please use tf.compat.v1.ragged.RaggedTensorValue instead.\n",
      "\n",
      "WARNING:tensorflow:From c:\\Python311\\Lib\\site-packages\\keras\\src\\engine\\base_layer_utils.py:384: The name tf.executing_eagerly_outside_functions is deprecated. Please use tf.compat.v1.executing_eagerly_outside_functions instead.\n",
      "\n",
      "219/219 [==============================] - 10s 13ms/step - loss: 0.6818 - accuracy: 0.5973\n",
      "Epoch 2/100\n",
      "219/219 [==============================] - 1s 7ms/step - loss: 0.6419 - accuracy: 0.8381\n",
      "Epoch 3/100\n",
      "219/219 [==============================] - 2s 8ms/step - loss: 0.5923 - accuracy: 0.8974\n",
      "Epoch 4/100\n",
      "219/219 [==============================] - 2s 10ms/step - loss: 0.5214 - accuracy: 0.9081\n",
      "Epoch 5/100\n",
      "219/219 [==============================] - 2s 9ms/step - loss: 0.4336 - accuracy: 0.9171\n",
      "Epoch 6/100\n",
      "219/219 [==============================] - 2s 8ms/step - loss: 0.3489 - accuracy: 0.9234\n",
      "Epoch 7/100\n",
      "219/219 [==============================] - 2s 7ms/step - loss: 0.2854 - accuracy: 0.9261\n",
      "Epoch 8/100\n",
      "219/219 [==============================] - 1s 3ms/step - loss: 0.2450 - accuracy: 0.9266\n",
      "Epoch 9/100\n",
      "219/219 [==============================] - 1s 5ms/step - loss: 0.2202 - accuracy: 0.9284\n",
      "Epoch 10/100\n",
      "219/219 [==============================] - 2s 8ms/step - loss: 0.2054 - accuracy: 0.9281\n",
      "Epoch 11/100\n",
      "219/219 [==============================] - 2s 9ms/step - loss: 0.1963 - accuracy: 0.9279\n",
      "Epoch 12/100\n",
      "219/219 [==============================] - 2s 9ms/step - loss: 0.1897 - accuracy: 0.9297\n",
      "Epoch 13/100\n",
      "219/219 [==============================] - 2s 9ms/step - loss: 0.1859 - accuracy: 0.9289\n",
      "Epoch 14/100\n",
      "219/219 [==============================] - 2s 10ms/step - loss: 0.1834 - accuracy: 0.9291\n",
      "Epoch 15/100\n",
      "219/219 [==============================] - 3s 11ms/step - loss: 0.1808 - accuracy: 0.9303\n",
      "Epoch 16/100\n",
      "219/219 [==============================] - 3s 13ms/step - loss: 0.1803 - accuracy: 0.9273\n",
      "Epoch 17/100\n",
      "219/219 [==============================] - 2s 9ms/step - loss: 0.1793 - accuracy: 0.9290\n",
      "Epoch 18/100\n",
      "219/219 [==============================] - 2s 8ms/step - loss: 0.1783 - accuracy: 0.9289\n",
      "Epoch 19/100\n",
      "219/219 [==============================] - 2s 9ms/step - loss: 0.1784 - accuracy: 0.9296\n",
      "Epoch 20/100\n",
      "219/219 [==============================] - 2s 11ms/step - loss: 0.1780 - accuracy: 0.9283\n",
      "Epoch 21/100\n",
      "219/219 [==============================] - 2s 9ms/step - loss: 0.1779 - accuracy: 0.9276\n",
      "Epoch 22/100\n",
      "219/219 [==============================] - 3s 12ms/step - loss: 0.1773 - accuracy: 0.9283\n",
      "Epoch 23/100\n",
      "219/219 [==============================] - 2s 9ms/step - loss: 0.1769 - accuracy: 0.9299\n",
      "Epoch 24/100\n",
      "219/219 [==============================] - 3s 14ms/step - loss: 0.1770 - accuracy: 0.9293\n",
      "Epoch 25/100\n",
      "219/219 [==============================] - 3s 12ms/step - loss: 0.1772 - accuracy: 0.9277\n",
      "Epoch 26/100\n",
      "219/219 [==============================] - 3s 12ms/step - loss: 0.1771 - accuracy: 0.9277\n",
      "Epoch 27/100\n",
      "219/219 [==============================] - 2s 11ms/step - loss: 0.1769 - accuracy: 0.9283\n",
      "Epoch 28/100\n",
      "219/219 [==============================] - 3s 15ms/step - loss: 0.1761 - accuracy: 0.9280\n",
      "Epoch 29/100\n",
      "219/219 [==============================] - 2s 11ms/step - loss: 0.1763 - accuracy: 0.9286\n",
      "Epoch 30/100\n",
      "219/219 [==============================] - 3s 12ms/step - loss: 0.1768 - accuracy: 0.9279\n",
      "Epoch 31/100\n",
      "219/219 [==============================] - 2s 11ms/step - loss: 0.1766 - accuracy: 0.9290\n",
      "Epoch 32/100\n",
      "219/219 [==============================] - 2s 10ms/step - loss: 0.1769 - accuracy: 0.9280\n",
      "Epoch 33/100\n",
      "219/219 [==============================] - 2s 10ms/step - loss: 0.1765 - accuracy: 0.9286\n",
      "Epoch 34/100\n",
      "219/219 [==============================] - 2s 10ms/step - loss: 0.1763 - accuracy: 0.9286\n",
      "Epoch 35/100\n",
      "219/219 [==============================] - 3s 13ms/step - loss: 0.1766 - accuracy: 0.9290\n",
      "Epoch 36/100\n",
      "219/219 [==============================] - 3s 13ms/step - loss: 0.1764 - accuracy: 0.9287\n",
      "Epoch 37/100\n",
      "219/219 [==============================] - 3s 11ms/step - loss: 0.1766 - accuracy: 0.9289\n",
      "Epoch 38/100\n",
      "219/219 [==============================] - 3s 12ms/step - loss: 0.1767 - accuracy: 0.9287\n",
      "Epoch 39/100\n",
      "219/219 [==============================] - 3s 13ms/step - loss: 0.1769 - accuracy: 0.9277\n",
      "Epoch 40/100\n",
      "219/219 [==============================] - 3s 13ms/step - loss: 0.1767 - accuracy: 0.9286\n",
      "Epoch 41/100\n",
      "219/219 [==============================] - 3s 13ms/step - loss: 0.1758 - accuracy: 0.9291\n",
      "Epoch 42/100\n",
      "219/219 [==============================] - 3s 15ms/step - loss: 0.1765 - accuracy: 0.9286\n",
      "Epoch 43/100\n",
      "219/219 [==============================] - 3s 13ms/step - loss: 0.1766 - accuracy: 0.9290\n",
      "Epoch 44/100\n",
      "219/219 [==============================] - 2s 10ms/step - loss: 0.1760 - accuracy: 0.9297\n",
      "Epoch 45/100\n",
      "219/219 [==============================] - 2s 8ms/step - loss: 0.1765 - accuracy: 0.9286\n",
      "Epoch 46/100\n",
      "219/219 [==============================] - 2s 10ms/step - loss: 0.1763 - accuracy: 0.9281\n",
      "Epoch 47/100\n",
      "219/219 [==============================] - 3s 13ms/step - loss: 0.1767 - accuracy: 0.9281\n",
      "Epoch 48/100\n",
      "219/219 [==============================] - 2s 9ms/step - loss: 0.1759 - accuracy: 0.9289\n",
      "Epoch 49/100\n",
      "219/219 [==============================] - 2s 10ms/step - loss: 0.1759 - accuracy: 0.9286\n",
      "Epoch 50/100\n",
      "219/219 [==============================] - 2s 9ms/step - loss: 0.1761 - accuracy: 0.9287\n",
      "Epoch 51/100\n",
      "219/219 [==============================] - 2s 11ms/step - loss: 0.1761 - accuracy: 0.9294\n",
      "Epoch 52/100\n",
      "219/219 [==============================] - 2s 10ms/step - loss: 0.1762 - accuracy: 0.9283\n",
      "Epoch 53/100\n",
      "219/219 [==============================] - 2s 9ms/step - loss: 0.1762 - accuracy: 0.9290\n",
      "Epoch 54/100\n",
      "219/219 [==============================] - 2s 8ms/step - loss: 0.1764 - accuracy: 0.9286\n",
      "Epoch 55/100\n",
      "219/219 [==============================] - 3s 12ms/step - loss: 0.1765 - accuracy: 0.9277\n",
      "Epoch 56/100\n",
      "219/219 [==============================] - 2s 9ms/step - loss: 0.1763 - accuracy: 0.9284\n",
      "Epoch 57/100\n",
      "219/219 [==============================] - 3s 14ms/step - loss: 0.1758 - accuracy: 0.9300\n",
      "Epoch 58/100\n",
      "219/219 [==============================] - 4s 16ms/step - loss: 0.1763 - accuracy: 0.9283\n",
      "Epoch 59/100\n",
      "219/219 [==============================] - 3s 13ms/step - loss: 0.1762 - accuracy: 0.9277\n",
      "Epoch 60/100\n",
      "219/219 [==============================] - 3s 15ms/step - loss: 0.1763 - accuracy: 0.9286\n",
      "Epoch 61/100\n",
      "219/219 [==============================] - 2s 10ms/step - loss: 0.1764 - accuracy: 0.9294\n",
      "Epoch 62/100\n",
      "219/219 [==============================] - 2s 8ms/step - loss: 0.1764 - accuracy: 0.9286\n",
      "Epoch 63/100\n",
      "219/219 [==============================] - 2s 9ms/step - loss: 0.1761 - accuracy: 0.9279\n",
      "Epoch 64/100\n",
      "219/219 [==============================] - 2s 9ms/step - loss: 0.1763 - accuracy: 0.9283\n",
      "Epoch 65/100\n",
      "219/219 [==============================] - 3s 13ms/step - loss: 0.1755 - accuracy: 0.9293\n",
      "Epoch 66/100\n",
      "219/219 [==============================] - 3s 13ms/step - loss: 0.1760 - accuracy: 0.9287\n",
      "Epoch 67/100\n",
      "219/219 [==============================] - 2s 11ms/step - loss: 0.1758 - accuracy: 0.9284\n",
      "Epoch 68/100\n",
      "219/219 [==============================] - 3s 13ms/step - loss: 0.1759 - accuracy: 0.9287\n",
      "Epoch 69/100\n",
      "219/219 [==============================] - 3s 12ms/step - loss: 0.1759 - accuracy: 0.9273\n",
      "Epoch 70/100\n",
      "219/219 [==============================] - 2s 11ms/step - loss: 0.1755 - accuracy: 0.9300\n",
      "Epoch 71/100\n",
      "219/219 [==============================] - 2s 10ms/step - loss: 0.1754 - accuracy: 0.9289\n",
      "Epoch 72/100\n",
      "219/219 [==============================] - 2s 11ms/step - loss: 0.1757 - accuracy: 0.9287\n",
      "Epoch 73/100\n",
      "219/219 [==============================] - 3s 12ms/step - loss: 0.1754 - accuracy: 0.9286\n",
      "Epoch 74/100\n",
      "219/219 [==============================] - 3s 12ms/step - loss: 0.1757 - accuracy: 0.9290\n",
      "Epoch 75/100\n",
      "219/219 [==============================] - 2s 11ms/step - loss: 0.1756 - accuracy: 0.9287\n",
      "Epoch 76/100\n",
      "219/219 [==============================] - 2s 11ms/step - loss: 0.1754 - accuracy: 0.9273\n",
      "Epoch 77/100\n",
      "219/219 [==============================] - 2s 11ms/step - loss: 0.1755 - accuracy: 0.9277\n",
      "Epoch 78/100\n",
      "219/219 [==============================] - 3s 12ms/step - loss: 0.1757 - accuracy: 0.9297\n",
      "Epoch 79/100\n",
      "219/219 [==============================] - 2s 11ms/step - loss: 0.1756 - accuracy: 0.9281\n",
      "Epoch 80/100\n",
      "219/219 [==============================] - 3s 12ms/step - loss: 0.1759 - accuracy: 0.9283\n",
      "Epoch 81/100\n",
      "219/219 [==============================] - 3s 15ms/step - loss: 0.1758 - accuracy: 0.9283\n",
      "Epoch 82/100\n",
      "219/219 [==============================] - 3s 15ms/step - loss: 0.1753 - accuracy: 0.9280\n",
      "Epoch 83/100\n",
      "219/219 [==============================] - 4s 17ms/step - loss: 0.1759 - accuracy: 0.9286\n",
      "Epoch 84/100\n",
      "219/219 [==============================] - 3s 14ms/step - loss: 0.1754 - accuracy: 0.9294\n",
      "Epoch 85/100\n",
      "219/219 [==============================] - 3s 13ms/step - loss: 0.1759 - accuracy: 0.9293\n",
      "Epoch 86/100\n",
      "219/219 [==============================] - 2s 10ms/step - loss: 0.1756 - accuracy: 0.9276\n",
      "Epoch 87/100\n",
      "219/219 [==============================] - 2s 9ms/step - loss: 0.1753 - accuracy: 0.9286\n",
      "Epoch 88/100\n",
      "219/219 [==============================] - 1s 6ms/step - loss: 0.1754 - accuracy: 0.9290\n",
      "Epoch 89/100\n",
      "219/219 [==============================] - 1s 7ms/step - loss: 0.1754 - accuracy: 0.9273\n",
      "Epoch 90/100\n",
      "219/219 [==============================] - 3s 11ms/step - loss: 0.1757 - accuracy: 0.9286\n",
      "Epoch 91/100\n",
      "219/219 [==============================] - 3s 12ms/step - loss: 0.1752 - accuracy: 0.9289\n",
      "Epoch 92/100\n",
      "219/219 [==============================] - 3s 12ms/step - loss: 0.1756 - accuracy: 0.9301\n",
      "Epoch 93/100\n",
      "219/219 [==============================] - 2s 11ms/step - loss: 0.1756 - accuracy: 0.9277\n",
      "Epoch 94/100\n",
      "219/219 [==============================] - 2s 10ms/step - loss: 0.1753 - accuracy: 0.9281\n",
      "Epoch 95/100\n",
      "219/219 [==============================] - 3s 11ms/step - loss: 0.1754 - accuracy: 0.9291\n",
      "Epoch 96/100\n",
      "219/219 [==============================] - 2s 11ms/step - loss: 0.1751 - accuracy: 0.9290\n",
      "Epoch 97/100\n",
      "219/219 [==============================] - 2s 10ms/step - loss: 0.1753 - accuracy: 0.9284\n",
      "Epoch 98/100\n",
      "219/219 [==============================] - 2s 10ms/step - loss: 0.1753 - accuracy: 0.9283\n",
      "Epoch 99/100\n",
      "219/219 [==============================] - 2s 11ms/step - loss: 0.1755 - accuracy: 0.9286\n",
      "Epoch 100/100\n",
      "219/219 [==============================] - 2s 9ms/step - loss: 0.1753 - accuracy: 0.9274\n"
     ]
    },
    {
     "data": {
      "text/plain": [
       "<keras.src.callbacks.History at 0x22fb239f2d0>"
      ]
     },
     "execution_count": 28,
     "metadata": {},
     "output_type": "execute_result"
    }
   ],
   "source": [
    "model.fit(X_train, y_train, epochs=100)"
   ]
  },
  {
   "cell_type": "code",
   "execution_count": 29,
   "metadata": {},
   "outputs": [
    {
     "name": "stdout",
     "output_type": "stream",
     "text": [
      "94/94 [==============================] - 2s 6ms/step - loss: 0.1804 - accuracy: 0.9253\n"
     ]
    },
    {
     "data": {
      "text/plain": [
       "[0.18041595816612244, 0.9253333210945129]"
      ]
     },
     "execution_count": 29,
     "metadata": {},
     "output_type": "execute_result"
    }
   ],
   "source": [
    "model.evaluate(X_test, y_test)"
   ]
  }
 ],
 "metadata": {
  "kernelspec": {
   "display_name": "Python 3",
   "language": "python",
   "name": "python3"
  },
  "language_info": {
   "codemirror_mode": {
    "name": "ipython",
    "version": 3
   },
   "file_extension": ".py",
   "mimetype": "text/x-python",
   "name": "python",
   "nbconvert_exporter": "python",
   "pygments_lexer": "ipython3",
   "version": "3.11.5"
  }
 },
 "nbformat": 4,
 "nbformat_minor": 4
}
